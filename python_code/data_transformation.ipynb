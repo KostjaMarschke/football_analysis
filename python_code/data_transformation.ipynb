{
  "cells": [
    {
      "cell_type": "code",
      "execution_count": 89,
      "metadata": {},
      "outputs": [
        {
          "name": "stdout",
          "output_type": "stream",
          "text": [
            "Collecting scipy\n",
            "  Downloading scipy-1.14.1-cp312-cp312-win_amd64.whl.metadata (60 kB)\n",
            "Requirement already satisfied: numpy<2.3,>=1.23.5 in c:\\users\\kostja marschke\\appdata\\local\\programs\\python\\python312\\lib\\site-packages (from scipy) (2.1.0)\n",
            "Downloading scipy-1.14.1-cp312-cp312-win_amd64.whl (44.5 MB)\n",
            "   ---------------------------------------- 0.0/44.5 MB ? eta -:--:--\n",
            "   ---------------------------------------- 0.5/44.5 MB 4.2 MB/s eta 0:00:11\n",
            "   - -------------------------------------- 1.3/44.5 MB 3.4 MB/s eta 0:00:13\n",
            "   - -------------------------------------- 1.8/44.5 MB 3.2 MB/s eta 0:00:14\n",
            "   -- ------------------------------------- 2.6/44.5 MB 3.2 MB/s eta 0:00:14\n",
            "   -- ------------------------------------- 3.1/44.5 MB 3.2 MB/s eta 0:00:13\n",
            "   --- ------------------------------------ 3.9/44.5 MB 3.2 MB/s eta 0:00:13\n",
            "   ---- ----------------------------------- 4.5/44.5 MB 3.2 MB/s eta 0:00:13\n",
            "   ---- ----------------------------------- 5.2/44.5 MB 3.2 MB/s eta 0:00:13\n",
            "   ----- ---------------------------------- 6.0/44.5 MB 3.2 MB/s eta 0:00:13\n",
            "   ----- ---------------------------------- 6.6/44.5 MB 3.2 MB/s eta 0:00:12\n",
            "   ------ --------------------------------- 7.3/44.5 MB 3.2 MB/s eta 0:00:12\n",
            "   ------- -------------------------------- 7.9/44.5 MB 3.2 MB/s eta 0:00:12\n",
            "   ------- -------------------------------- 8.7/44.5 MB 3.2 MB/s eta 0:00:12\n",
            "   -------- ------------------------------- 9.4/44.5 MB 3.2 MB/s eta 0:00:11\n",
            "   -------- ------------------------------- 10.0/44.5 MB 3.2 MB/s eta 0:00:11\n",
            "   --------- ------------------------------ 10.7/44.5 MB 3.2 MB/s eta 0:00:11\n",
            "   ---------- ----------------------------- 11.5/44.5 MB 3.2 MB/s eta 0:00:11\n",
            "   ----------- ---------------------------- 12.3/44.5 MB 3.2 MB/s eta 0:00:10\n",
            "   ----------- ---------------------------- 13.1/44.5 MB 3.2 MB/s eta 0:00:10\n",
            "   ------------ --------------------------- 13.6/44.5 MB 3.3 MB/s eta 0:00:10\n",
            "   ------------ --------------------------- 14.4/44.5 MB 3.3 MB/s eta 0:00:10\n",
            "   ------------- -------------------------- 15.2/44.5 MB 3.3 MB/s eta 0:00:09\n",
            "   -------------- ------------------------- 16.0/44.5 MB 3.3 MB/s eta 0:00:09\n",
            "   -------------- ------------------------- 16.5/44.5 MB 3.3 MB/s eta 0:00:09\n",
            "   --------------- ------------------------ 17.3/44.5 MB 3.3 MB/s eta 0:00:09\n",
            "   ---------------- ----------------------- 18.1/44.5 MB 3.3 MB/s eta 0:00:09\n",
            "   ---------------- ----------------------- 18.6/44.5 MB 3.3 MB/s eta 0:00:08\n",
            "   ----------------- ---------------------- 19.4/44.5 MB 3.3 MB/s eta 0:00:08\n",
            "   ------------------ --------------------- 20.2/44.5 MB 3.3 MB/s eta 0:00:08\n",
            "   ------------------ --------------------- 20.7/44.5 MB 3.3 MB/s eta 0:00:08\n",
            "   ------------------- -------------------- 21.5/44.5 MB 3.3 MB/s eta 0:00:08\n",
            "   -------------------- ------------------- 22.3/44.5 MB 3.3 MB/s eta 0:00:07\n",
            "   -------------------- ------------------- 22.8/44.5 MB 3.3 MB/s eta 0:00:07\n",
            "   --------------------- ------------------ 23.6/44.5 MB 3.3 MB/s eta 0:00:07\n",
            "   --------------------- ------------------ 24.4/44.5 MB 3.3 MB/s eta 0:00:07\n",
            "   ---------------------- ----------------- 25.2/44.5 MB 3.3 MB/s eta 0:00:06\n",
            "   ----------------------- ---------------- 25.7/44.5 MB 3.3 MB/s eta 0:00:06\n",
            "   ----------------------- ---------------- 26.5/44.5 MB 3.3 MB/s eta 0:00:06\n",
            "   ------------------------ --------------- 27.3/44.5 MB 3.3 MB/s eta 0:00:06\n",
            "   ------------------------ --------------- 27.8/44.5 MB 3.3 MB/s eta 0:00:06\n",
            "   ------------------------- -------------- 28.6/44.5 MB 3.3 MB/s eta 0:00:05\n",
            "   -------------------------- ------------- 29.1/44.5 MB 3.3 MB/s eta 0:00:05\n",
            "   -------------------------- ------------- 29.9/44.5 MB 3.3 MB/s eta 0:00:05\n",
            "   --------------------------- ------------ 30.7/44.5 MB 3.3 MB/s eta 0:00:05\n",
            "   ---------------------------- ----------- 31.5/44.5 MB 3.3 MB/s eta 0:00:04\n",
            "   ---------------------------- ----------- 32.0/44.5 MB 3.3 MB/s eta 0:00:04\n",
            "   ----------------------------- ---------- 32.8/44.5 MB 3.3 MB/s eta 0:00:04\n",
            "   ----------------------------- ---------- 33.3/44.5 MB 3.3 MB/s eta 0:00:04\n",
            "   ------------------------------ --------- 34.1/44.5 MB 3.3 MB/s eta 0:00:04\n",
            "   ------------------------------- -------- 34.9/44.5 MB 3.3 MB/s eta 0:00:03\n",
            "   -------------------------------- ------- 35.7/44.5 MB 3.3 MB/s eta 0:00:03\n",
            "   -------------------------------- ------- 36.2/44.5 MB 3.3 MB/s eta 0:00:03\n",
            "   --------------------------------- ------ 37.0/44.5 MB 3.3 MB/s eta 0:00:03\n",
            "   --------------------------------- ------ 37.7/44.5 MB 3.3 MB/s eta 0:00:03\n",
            "   ---------------------------------- ----- 38.3/44.5 MB 3.3 MB/s eta 0:00:02\n",
            "   ----------------------------------- ---- 39.1/44.5 MB 3.3 MB/s eta 0:00:02\n",
            "   ----------------------------------- ---- 39.8/44.5 MB 3.3 MB/s eta 0:00:02\n",
            "   ------------------------------------ --- 40.4/44.5 MB 3.3 MB/s eta 0:00:02\n",
            "   ------------------------------------ --- 41.2/44.5 MB 3.3 MB/s eta 0:00:02\n",
            "   ------------------------------------- -- 41.9/44.5 MB 3.3 MB/s eta 0:00:01\n",
            "   -------------------------------------- - 42.7/44.5 MB 3.3 MB/s eta 0:00:01\n",
            "   -------------------------------------- - 43.3/44.5 MB 3.3 MB/s eta 0:00:01\n",
            "   ---------------------------------------  44.0/44.5 MB 3.3 MB/s eta 0:00:01\n",
            "   ---------------------------------------  44.3/44.5 MB 3.3 MB/s eta 0:00:01\n",
            "   ---------------------------------------  44.3/44.5 MB 3.3 MB/s eta 0:00:01\n",
            "   ---------------------------------------- 44.5/44.5 MB 3.2 MB/s eta 0:00:00\n",
            "Installing collected packages: scipy\n",
            "Successfully installed scipy-1.14.1\n",
            "Note: you may need to restart the kernel to use updated packages.\n"
          ]
        }
      ],
      "source": [
        "pip install scipy"
      ]
    },
    {
      "cell_type": "code",
      "execution_count": 90,
      "metadata": {
        "id": "W7Fo1-uplQFD"
      },
      "outputs": [],
      "source": [
        "import soccerdata as sd\n",
        "import pandas as pd\n",
        "import numpy as np\n",
        "import scipy.stats as stats"
      ]
    },
    {
      "cell_type": "code",
      "execution_count": 2,
      "metadata": {
        "id": "u2_kmYLrtj9_"
      },
      "outputs": [],
      "source": [
        "# Setting vars\n",
        "league = \"GER-Bundesliga\"\n",
        "seasons = 2022\n",
        "team = 'Dortmund'\n",
        "player = 'Jude Bellingham'"
      ]
    },
    {
      "cell_type": "code",
      "execution_count": 3,
      "metadata": {
        "colab": {
          "base_uri": "https://localhost:8080/",
          "height": 33
        },
        "id": "yK1rsh2WX7Al",
        "outputId": "e933b7a1-6662-4348-bb6a-cf66a8207cd5"
      },
      "outputs": [
        {
          "data": {
            "text/html": [
              "<pre style=\"white-space:pre;overflow-x:auto;line-height:normal;font-family:Menlo,'DejaVu Sans Mono',consolas,'Courier New',monospace\"><span style=\"color: #7fbfbf; text-decoration-color: #7fbfbf\">[08/24/24 14:03:18] </span><span style=\"color: #000080; text-decoration-color: #000080\">INFO    </span> Saving cached data to C:\\Users\\Kostja Marschke\\soccerdata\\data\\FBref    <span style=\"color: #7f7f7f; text-decoration-color: #7f7f7f\">_common.py:263</span>\n",
              "</pre>\n"
            ],
            "text/plain": [
              "\u001b[2;36m[08/24/24 14:03:18]\u001b[0m\u001b[2;36m \u001b[0m\u001b[34mINFO    \u001b[0m Saving cached data to C:\\Users\\Kostja Marschke\\soccerdata\\data\\FBref    \u001b[2m_common.py\u001b[0m\u001b[2m:\u001b[0m\u001b[2m263\u001b[0m\n"
            ]
          },
          "metadata": {},
          "output_type": "display_data"
        }
      ],
      "source": [
        "# Creating object\n",
        "fbref = sd.FBref(leagues=league, seasons=seasons)"
      ]
    },
    {
      "cell_type": "code",
      "execution_count": 6,
      "metadata": {
        "id": "89hOzVVQXrfO"
      },
      "outputs": [],
      "source": [
        "# API Calls\n",
        "# Getting season schedule for league\n",
        "schedule = fbref.read_schedule().reset_index(drop=False)\n",
        "team_match_stats = fbref.read_team_match_stats(stat_type=\"schedule\", team=team).reset_index(drop=False)\n",
        "\n",
        "# Getting games for team\n",
        "home_games = schedule[schedule['home_team'] == team]['game_id']\n",
        "away_games = schedule[schedule['away_team'] == team]['game_id']\n",
        "games = list(set(home_games) | set(away_games))\n",
        "\n",
        "# Getting lineups & events for team\n",
        "events = fbref.read_events(match_id=games)\n",
        "lineups = fbref.read_lineup(match_id=games)"
      ]
    },
    {
      "cell_type": "code",
      "execution_count": 12,
      "metadata": {
        "colab": {
          "base_uri": "https://localhost:8080/"
        },
        "id": "op_IufyPw9LY",
        "outputId": "09e16762-f448-4395-c4d6-dc64334f716d"
      },
      "outputs": [],
      "source": [
        "# Calculating team-data\n",
        "lineups = lineups[lineups['team'] == team].reset_index(drop=False)[['game', 'player', 'is_starter', 'minutes_played']]\n",
        "players = list(lineups['player'].unique())\n",
        "\n",
        "goals = events[events['event_type'] == 'goal'].reset_index(drop=False)[['game', 'team', 'minute']]\n",
        "goals_for = goals[goals['team'] == team].reset_index(drop=True)\n",
        "goals_against = goals[goals['team'] != team].reset_index(drop=True)\n",
        "\n",
        "subs = events[events['event_type'] == 'substitute_in'].reset_index(drop=False)[['game', 'team', 'minute', 'player1', 'player2']]\n",
        "club_subs = subs[subs['team'] == team].reset_index(drop=True)"
      ]
    },
    {
      "cell_type": "code",
      "execution_count": 135,
      "metadata": {
        "id": "CAjhIUfF0GU7"
      },
      "outputs": [],
      "source": [
        "def metrics_calculator(player):\n",
        "\n",
        "    # Calculating playing time for player\n",
        "    player_in_club_subs = club_subs[club_subs['player1'] == player][['game', 'minute']].rename(columns={'minute': 'minute_in'}).reset_index(drop=True)\n",
        "    player_out_club_subs = club_subs[club_subs['player2'] == player][['game', 'minute']].rename(columns={'minute': 'minute_out'}).reset_index(drop=True)\n",
        "\n",
        "    player_subs = pd.merge(player_in_club_subs, player_out_club_subs, on='game', how='outer')\n",
        "\n",
        "    player_starts = schedule[schedule['game_id'].isin(games)].reset_index(drop=True)[['game', 'game_id']].merge(lineups[lineups['player'] == player][['game', 'player', 'is_starter']], how='left')\n",
        "\n",
        "    player_games = player_starts.merge(player_subs, on = 'game', how='left')\n",
        "\n",
        "    player_starts = schedule[schedule['game_id'].isin(games)].reset_index(drop=True)[['game', 'game_id']].merge(lineups[lineups['player'] == player][['game', 'player', 'is_starter']], how='left')\n",
        "\n",
        "    player_games = player_starts.merge(player_subs, on = 'game', how='left')\n",
        "\n",
        "    player_games['minute_out'] = player_games.apply(\n",
        "        lambda row: '0' if pd.isnull(row['player']) or (pd.isnull(row['minute_in']) and row['is_starter'] == False) \n",
        "        else '90' if pd.isnull(row['minute_out']) else row['minute_out'],\n",
        "        axis=1\n",
        "    )\n",
        "    player_games['minute_in'] = player_games['minute_in'].fillna('0')\n",
        "    player_games['player'] = player_games['player'].fillna(player)\n",
        "    player_games['is_starter'] = player_games['player'].fillna(False)\n",
        "    player_games['minute_in'] = player_games['minute_in'].str.split('+').str[0].astype(float)\n",
        "    player_games['minute_out'] = player_games['minute_out'].str.split('+').str[0].astype(float)\n",
        "    player_games['minutes_played'] = player_games['minute_out'].astype(int) - player_games['minute_in'].astype(int)\n",
        "    player_games['minutes_not_played'] = 90 - player_games['minutes_played']\n",
        "\n",
        "    season_minutes_played = int(np.sum(player_games['minutes_played']))\n",
        "    season_minutes_not_played = int(np.sum(player_games['minutes_not_played']))\n",
        "\n",
        "    # Calcuating goals on pitch\n",
        "    player_goals_for_minutes = goals_for.merge(player_games, on='game')\n",
        "    player_goals_for_minutes['minute'] = player_goals_for_minutes['minute'].str.split('+').str[0].astype(int)\n",
        "\n",
        "    player_goals_for_minutes['minute_in'] = player_goals_for_minutes['minute_in'].astype(int)\n",
        "    player_goals_for_minutes['minute_out'] = player_goals_for_minutes['minute_out'].astype(int)\n",
        "\n",
        "    player_goals_for_minutes['goal_on_pitch'] = player_goals_for_minutes.apply(\n",
        "        lambda row: 1 if row['minute_in'] <= row['minute'] <= row['minute_out'] else 0,\n",
        "        axis=1\n",
        "    )\n",
        "\n",
        "    player_goals_for_minutes['goal_not_on_pitch'] = player_goals_for_minutes.apply(\n",
        "        lambda row: 1 if row['minute_in'] > row['minute'] or row['minute'] > row['minute_out'] else 0,\n",
        "        axis=1\n",
        "    )\n",
        "\n",
        "    season_goals_on_pitch = int(np.sum(player_goals_for_minutes['goal_on_pitch']))\n",
        "    season_goals_not_on_pitch = int(np.sum(player_goals_for_minutes['goal_not_on_pitch']))\n",
        "\n",
        "    if season_minutes_played > 0:\n",
        "        gpm_on_pitch = season_goals_on_pitch / season_minutes_played\n",
        "    else:\n",
        "        gpm_on_pitch = 0\n",
        "    \n",
        "    if season_minutes_not_played > 0:\n",
        "        gpm_not_on_pitch = season_goals_not_on_pitch / season_minutes_not_played\n",
        "    else:\n",
        "        gpm_not_on_pitch\n",
        "\n",
        "    if season_minutes_played > 0 and season_minutes_not_played > 0:\n",
        "        std_on_pitch = np.sqrt(gpm_on_pitch * (1 - gpm_on_pitch) / season_minutes_played)\n",
        "        std_not_on_pitch = np.sqrt(gpm_not_on_pitch * (1 - gpm_not_on_pitch) / season_minutes_not_played)\n",
        "\n",
        "        t_statistic, p_value = stats.ttest_ind_from_stats(\n",
        "            mean1=gpm_on_pitch, std1=std_on_pitch, nobs1=season_minutes_played,\n",
        "            mean2=gpm_not_on_pitch, std2=std_not_on_pitch, nobs2=season_minutes_not_played,\n",
        "            equal_var=False  # Use `False` if variances are not assumed to be equal\n",
        "        )\n",
        "    else:\n",
        "        p_value = 0\n",
        "    \n",
        "    return {'player': player,\n",
        "            'mp':season_minutes_played, \n",
        "            'mnp': season_minutes_not_played, \n",
        "            'gop': season_goals_on_pitch, \n",
        "            'gnop': season_goals_not_on_pitch, \n",
        "            'gpm_op': gpm_on_pitch, \n",
        "            'gpm_nop': gpm_not_on_pitch,\n",
        "            'pvalue' : '{:f}'.format(float(p_value))}"
      ]
    },
    {
      "cell_type": "code",
      "execution_count": 136,
      "metadata": {},
      "outputs": [],
      "source": [
        "full_dict = {'player':[],\n",
        "            'mp':[], \n",
        "            'mnp': [], \n",
        "            'gop': [], \n",
        "            'gnop': [], \n",
        "            'gpm_op': [], \n",
        "            'gpm_nop': [],\n",
        "            'pvalue' : []}\n",
        "for player in players:\n",
        "    res_dict = metrics_calculator(player)\n",
        "    for key in res_dict.keys():\n",
        "        full_dict[key].append(res_dict[key])\n",
        "\n",
        "df = pd.DataFrame(full_dict)\n",
        "df['score'] = df['gpm_op'] - df['gpm_nop']\n",
        "df.sort_values(by='score', ascending=False).reset_index(drop=True)"
      ]
    }
  ],
  "metadata": {
    "colab": {
      "provenance": []
    },
    "kernelspec": {
      "display_name": "Python 3",
      "name": "python3"
    },
    "language_info": {
      "codemirror_mode": {
        "name": "ipython",
        "version": 3
      },
      "file_extension": ".py",
      "mimetype": "text/x-python",
      "name": "python",
      "nbconvert_exporter": "python",
      "pygments_lexer": "ipython3",
      "version": "3.12.5"
    }
  },
  "nbformat": 4,
  "nbformat_minor": 0
}
